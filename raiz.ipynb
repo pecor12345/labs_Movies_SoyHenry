{
 "cells": [
  {
   "cell_type": "code",
   "execution_count": 4,
   "metadata": {},
   "outputs": [],
   "source": [
    "import pandas as pd\n",
    "import numpy as np\n",
    "import os\n",
    "import ast\n",
    "\n",
    "from datetime import datetime\n"
   ]
  },
  {
   "attachments": {},
   "cell_type": "markdown",
   "metadata": {},
   "source": [
    "CARGA DE DATA"
   ]
  },
  {
   "cell_type": "code",
   "execution_count": 14,
   "metadata": {},
   "outputs": [
    {
     "name": "stderr",
     "output_type": "stream",
     "text": [
      "C:\\Users\\pecor\\AppData\\Local\\Temp\\ipykernel_20744\\3032137973.py:3: DtypeWarning: Columns (10) have mixed types. Specify dtype option on import or set low_memory=False.\n",
      "  df_labs = pd.read_csv(url)\n"
     ]
    }
   ],
   "source": [
    "url='https://drive.google.com/file/d/1yqB8ahhhdiONfZLu8-xuU9qsWOgSf5Oo/view?usp=sharing'\n",
    "url='https://drive.google.com/uc?id=' + url.split('/')[-2]\n",
    "df_labs = pd.read_csv(url)"
   ]
  },
  {
   "cell_type": "code",
   "execution_count": 16,
   "metadata": {},
   "outputs": [
    {
     "name": "stdout",
     "output_type": "stream",
     "text": [
      "<class 'pandas.core.frame.DataFrame'>\n",
      "RangeIndex: 45466 entries, 0 to 45465\n",
      "Data columns (total 24 columns):\n",
      " #   Column                 Non-Null Count  Dtype  \n",
      "---  ------                 --------------  -----  \n",
      " 0   adult                  45466 non-null  object \n",
      " 1   belongs_to_collection  4494 non-null   object \n",
      " 2   budget                 45466 non-null  object \n",
      " 3   genres                 45466 non-null  object \n",
      " 4   homepage               7782 non-null   object \n",
      " 5   id                     45466 non-null  object \n",
      " 6   imdb_id                45449 non-null  object \n",
      " 7   original_language      45455 non-null  object \n",
      " 8   original_title         45466 non-null  object \n",
      " 9   overview               44512 non-null  object \n",
      " 10  popularity             45461 non-null  object \n",
      " 11  poster_path            45080 non-null  object \n",
      " 12  production_companies   45463 non-null  object \n",
      " 13  production_countries   45463 non-null  object \n",
      " 14  release_date           45379 non-null  object \n",
      " 15  revenue                45460 non-null  float64\n",
      " 16  runtime                45203 non-null  float64\n",
      " 17  spoken_languages       45460 non-null  object \n",
      " 18  status                 45379 non-null  object \n",
      " 19  tagline                20412 non-null  object \n",
      " 20  title                  45460 non-null  object \n",
      " 21  video                  45460 non-null  object \n",
      " 22  vote_average           45460 non-null  float64\n",
      " 23  vote_count             45460 non-null  float64\n",
      "dtypes: float64(4), object(20)\n",
      "memory usage: 8.3+ MB\n"
     ]
    }
   ],
   "source": [
    "df_labs.info()"
   ]
  },
  {
   "cell_type": "code",
   "execution_count": 17,
   "metadata": {},
   "outputs": [
    {
     "data": {
      "text/plain": [
       "(45466, 24)"
      ]
     },
     "execution_count": 17,
     "metadata": {},
     "output_type": "execute_result"
    }
   ],
   "source": [
    "df_labs.shape"
   ]
  },
  {
   "attachments": {},
   "cell_type": "markdown",
   "metadata": {},
   "source": [
    "                            DESARROLLO Y TRANSFORMACION DE DATOS"
   ]
  },
  {
   "attachments": {},
   "cell_type": "markdown",
   "metadata": {},
   "source": [
    "01.ELIMINAR COLUMNAS"
   ]
  },
  {
   "cell_type": "code",
   "execution_count": 27,
   "metadata": {},
   "outputs": [],
   "source": [
    "df_labs.drop(columns=['video', 'imdb_id', 'adult', 'original_title', 'poster_path', 'homepage', 'tagline'], axis=1, inplace = True)"
   ]
  },
  {
   "attachments": {},
   "cell_type": "markdown",
   "metadata": {},
   "source": [
    "02.VALORES NULOS REVENUE Y BUDGET"
   ]
  },
  {
   "cell_type": "code",
   "execution_count": 28,
   "metadata": {},
   "outputs": [],
   "source": [
    "df_labs['budget'] = pd.to_numeric(df_labs['budget'], errors='coerce').fillna(0)"
   ]
  },
  {
   "cell_type": "code",
   "execution_count": 29,
   "metadata": {},
   "outputs": [],
   "source": [
    "df_labs['revenue'] = df_labs['revenue'].fillna(0)"
   ]
  },
  {
   "attachments": {},
   "cell_type": "markdown",
   "metadata": {},
   "source": [
    "03.Crear Columna Return"
   ]
  },
  {
   "cell_type": "code",
   "execution_count": 30,
   "metadata": {},
   "outputs": [],
   "source": [
    "df_labs['return'] = df_labs.apply(lambda x: x['revenue']/x['budget'] if x['budget'] != 0 else 0, axis=1)"
   ]
  },
  {
   "cell_type": "code",
   "execution_count": 31,
   "metadata": {},
   "outputs": [
    {
     "name": "stdout",
     "output_type": "stream",
     "text": [
      "<class 'pandas.core.frame.DataFrame'>\n",
      "RangeIndex: 45466 entries, 0 to 45465\n",
      "Data columns (total 18 columns):\n",
      " #   Column                 Non-Null Count  Dtype  \n",
      "---  ------                 --------------  -----  \n",
      " 0   belongs_to_collection  4494 non-null   object \n",
      " 1   budget                 45466 non-null  float64\n",
      " 2   genres                 45466 non-null  object \n",
      " 3   id                     45466 non-null  object \n",
      " 4   original_language      45455 non-null  object \n",
      " 5   overview               44512 non-null  object \n",
      " 6   popularity             45461 non-null  object \n",
      " 7   production_companies   45463 non-null  object \n",
      " 8   production_countries   45463 non-null  object \n",
      " 9   release_date           45379 non-null  object \n",
      " 10  revenue                45466 non-null  float64\n",
      " 11  runtime                45203 non-null  float64\n",
      " 12  spoken_languages       45460 non-null  object \n",
      " 13  status                 45379 non-null  object \n",
      " 14  title                  45460 non-null  object \n",
      " 15  vote_average           45460 non-null  float64\n",
      " 16  vote_count             45460 non-null  float64\n",
      " 17  return                 45466 non-null  float64\n",
      "dtypes: float64(6), object(12)\n",
      "memory usage: 6.2+ MB\n"
     ]
    }
   ],
   "source": [
    "df_labs.info()"
   ]
  },
  {
   "attachments": {},
   "cell_type": "markdown",
   "metadata": {},
   "source": [
    "04. DESANIDAR \n",
    "\n",
    "04.1 String a Diccionario"
   ]
  },
  {
   "cell_type": "code",
   "execution_count": 32,
   "metadata": {},
   "outputs": [],
   "source": [
    "def str_to_dict(value):\n",
    "    \"\"\"Convert string a diccionario\n",
    "\n",
    "    Args:\n",
    "        value (str): String valu se convierte en diccionario\n",
    "\n",
    "    Returns:\n",
    "        None : Return None if NaN value is present\n",
    "    \"\"\"\n",
    "    if pd.isna(value):\n",
    "        return None\n",
    "    else:\n",
    "        return ast.literal_eval(value)"
   ]
  },
  {
   "attachments": {},
   "cell_type": "markdown",
   "metadata": {},
   "source": [
    "04.2 Desanidar Columnas"
   ]
  },
  {
   "cell_type": "code",
   "execution_count": 33,
   "metadata": {},
   "outputs": [],
   "source": [
    "df_labs['belongs_to_collection'] = df_labs['belongs_to_collection'].apply(str_to_dict)"
   ]
  },
  {
   "cell_type": "code",
   "execution_count": 34,
   "metadata": {},
   "outputs": [
    {
     "data": {
      "text/html": [
       "<div>\n",
       "<style scoped>\n",
       "    .dataframe tbody tr th:only-of-type {\n",
       "        vertical-align: middle;\n",
       "    }\n",
       "\n",
       "    .dataframe tbody tr th {\n",
       "        vertical-align: top;\n",
       "    }\n",
       "\n",
       "    .dataframe thead th {\n",
       "        text-align: right;\n",
       "    }\n",
       "</style>\n",
       "<table border=\"1\" class=\"dataframe\">\n",
       "  <thead>\n",
       "    <tr style=\"text-align: right;\">\n",
       "      <th></th>\n",
       "      <th>id</th>\n",
       "      <th>name</th>\n",
       "      <th>poster_path</th>\n",
       "      <th>backdrop_path</th>\n",
       "    </tr>\n",
       "  </thead>\n",
       "  <tbody>\n",
       "    <tr>\n",
       "      <th>0</th>\n",
       "      <td>10194.0</td>\n",
       "      <td>Toy Story Collection</td>\n",
       "      <td>/7G9915LfUQ2lVfwMEEhDsn3kT4B.jpg</td>\n",
       "      <td>/9FBwqcd9IRruEDUrTdcaafOMKUq.jpg</td>\n",
       "    </tr>\n",
       "    <tr>\n",
       "      <th>1</th>\n",
       "      <td></td>\n",
       "      <td></td>\n",
       "      <td></td>\n",
       "      <td></td>\n",
       "    </tr>\n",
       "    <tr>\n",
       "      <th>2</th>\n",
       "      <td>119050.0</td>\n",
       "      <td>Grumpy Old Men Collection</td>\n",
       "      <td>/nLvUdqgPgm3F85NMCii9gVFUcet.jpg</td>\n",
       "      <td>/hypTnLot2z8wpFS7qwsQHW1uV8u.jpg</td>\n",
       "    </tr>\n",
       "    <tr>\n",
       "      <th>3</th>\n",
       "      <td></td>\n",
       "      <td></td>\n",
       "      <td></td>\n",
       "      <td></td>\n",
       "    </tr>\n",
       "    <tr>\n",
       "      <th>4</th>\n",
       "      <td>96871.0</td>\n",
       "      <td>Father of the Bride Collection</td>\n",
       "      <td>/nts4iOmNnq7GNicycMJ9pSAn204.jpg</td>\n",
       "      <td>/7qwE57OVZmMJChBpLEbJEmzUydk.jpg</td>\n",
       "    </tr>\n",
       "  </tbody>\n",
       "</table>\n",
       "</div>"
      ],
      "text/plain": [
       "         id                            name                       poster_path  \\\n",
       "0   10194.0            Toy Story Collection  /7G9915LfUQ2lVfwMEEhDsn3kT4B.jpg   \n",
       "1                                                                               \n",
       "2  119050.0       Grumpy Old Men Collection  /nLvUdqgPgm3F85NMCii9gVFUcet.jpg   \n",
       "3                                                                               \n",
       "4   96871.0  Father of the Bride Collection  /nts4iOmNnq7GNicycMJ9pSAn204.jpg   \n",
       "\n",
       "                      backdrop_path  \n",
       "0  /9FBwqcd9IRruEDUrTdcaafOMKUq.jpg  \n",
       "1                                    \n",
       "2  /hypTnLot2z8wpFS7qwsQHW1uV8u.jpg  \n",
       "3                                    \n",
       "4  /7qwE57OVZmMJChBpLEbJEmzUydk.jpg  "
      ]
     },
     "execution_count": 34,
     "metadata": {},
     "output_type": "execute_result"
    }
   ],
   "source": [
    "df_nested = pd.json_normalize(df_labs['belongs_to_collection']).fillna('')\n",
    "df_nested.head()"
   ]
  },
  {
   "cell_type": "code",
   "execution_count": 35,
   "metadata": {},
   "outputs": [
    {
     "data": {
      "text/html": [
       "<div>\n",
       "<style scoped>\n",
       "    .dataframe tbody tr th:only-of-type {\n",
       "        vertical-align: middle;\n",
       "    }\n",
       "\n",
       "    .dataframe tbody tr th {\n",
       "        vertical-align: top;\n",
       "    }\n",
       "\n",
       "    .dataframe thead th {\n",
       "        text-align: right;\n",
       "    }\n",
       "</style>\n",
       "<table border=\"1\" class=\"dataframe\">\n",
       "  <thead>\n",
       "    <tr style=\"text-align: right;\">\n",
       "      <th></th>\n",
       "      <th>belongs_to_collections_id</th>\n",
       "      <th>belongs_to_collections_name</th>\n",
       "      <th>belongs_to_collections_poster_path</th>\n",
       "      <th>belongs_to_collections_backdrop_path</th>\n",
       "    </tr>\n",
       "  </thead>\n",
       "  <tbody>\n",
       "    <tr>\n",
       "      <th>0</th>\n",
       "      <td>10194.0</td>\n",
       "      <td>Toy Story Collection</td>\n",
       "      <td>/7G9915LfUQ2lVfwMEEhDsn3kT4B.jpg</td>\n",
       "      <td>/9FBwqcd9IRruEDUrTdcaafOMKUq.jpg</td>\n",
       "    </tr>\n",
       "    <tr>\n",
       "      <th>1</th>\n",
       "      <td></td>\n",
       "      <td></td>\n",
       "      <td></td>\n",
       "      <td></td>\n",
       "    </tr>\n",
       "    <tr>\n",
       "      <th>2</th>\n",
       "      <td>119050.0</td>\n",
       "      <td>Grumpy Old Men Collection</td>\n",
       "      <td>/nLvUdqgPgm3F85NMCii9gVFUcet.jpg</td>\n",
       "      <td>/hypTnLot2z8wpFS7qwsQHW1uV8u.jpg</td>\n",
       "    </tr>\n",
       "    <tr>\n",
       "      <th>3</th>\n",
       "      <td></td>\n",
       "      <td></td>\n",
       "      <td></td>\n",
       "      <td></td>\n",
       "    </tr>\n",
       "    <tr>\n",
       "      <th>4</th>\n",
       "      <td>96871.0</td>\n",
       "      <td>Father of the Bride Collection</td>\n",
       "      <td>/nts4iOmNnq7GNicycMJ9pSAn204.jpg</td>\n",
       "      <td>/7qwE57OVZmMJChBpLEbJEmzUydk.jpg</td>\n",
       "    </tr>\n",
       "  </tbody>\n",
       "</table>\n",
       "</div>"
      ],
      "text/plain": [
       "  belongs_to_collections_id     belongs_to_collections_name  \\\n",
       "0                   10194.0            Toy Story Collection   \n",
       "1                                                             \n",
       "2                  119050.0       Grumpy Old Men Collection   \n",
       "3                                                             \n",
       "4                   96871.0  Father of the Bride Collection   \n",
       "\n",
       "  belongs_to_collections_poster_path belongs_to_collections_backdrop_path  \n",
       "0   /7G9915LfUQ2lVfwMEEhDsn3kT4B.jpg     /9FBwqcd9IRruEDUrTdcaafOMKUq.jpg  \n",
       "1                                                                          \n",
       "2   /nLvUdqgPgm3F85NMCii9gVFUcet.jpg     /hypTnLot2z8wpFS7qwsQHW1uV8u.jpg  \n",
       "3                                                                          \n",
       "4   /nts4iOmNnq7GNicycMJ9pSAn204.jpg     /7qwE57OVZmMJChBpLEbJEmzUydk.jpg  "
      ]
     },
     "execution_count": 35,
     "metadata": {},
     "output_type": "execute_result"
    }
   ],
   "source": [
    "columns = df_nested.columns\n",
    "new_columns_names = {column : f'belongs_to_collections_{column}' for column in columns}\n",
    "df_nested.rename(columns=new_columns_names, inplace=True)\n",
    "df_nested.head()"
   ]
  },
  {
   "cell_type": "code",
   "execution_count": 36,
   "metadata": {},
   "outputs": [
    {
     "data": {
      "text/plain": [
       "(45466, 4)"
      ]
     },
     "execution_count": 36,
     "metadata": {},
     "output_type": "execute_result"
    }
   ],
   "source": [
    "df_nested.shape"
   ]
  },
  {
   "cell_type": "code",
   "execution_count": 37,
   "metadata": {},
   "outputs": [],
   "source": [
    "columns = ['genres', 'production_companies', 'production_countries', 'spoken_languages']\n",
    "\n",
    "for column in columns:\n",
    "    df_labs[column] = df_labs[column].apply(str_to_dict)\n",
    "    df_nested = pd.json_normalize(df_labs[column]).fillna('')\n",
    "    nested_columns = df_nested.columns\n",
    "    df_nested_1 = pd.DataFrame()\n",
    "    for nested_column in nested_columns:\n",
    "        df_aux = pd.json_normalize(df_nested[nested_column]).fillna('')\n",
    "        if 'production_countries' in column:\n",
    "            df_aux.rename(columns={'iso_3166_1': 'id'}, inplace=True)\n",
    "        if 'spoken_languages' in column:\n",
    "            df_aux.rename(columns={'iso_639_1': 'id'}, inplace=True)\n",
    "        df_aux.drop(columns='id', axis=1, inplace=True)\n",
    "        new_columns_names = {col : f'{column}_{nested_column}_{col}' for col in df_aux.columns}\n",
    "        df_aux.rename(columns=new_columns_names, inplace=True)\n",
    "        df_nested_1 = pd.concat([df_nested_1, df_aux], axis=1)\n",
    "\n",
    "    # Convertir columns to a list of columns\n",
    "    column_name = f'{column}_name'\n",
    "    column_name_list = df_nested_1.columns.to_list()\n",
    "    df_nested_1[column_name] = df_nested_1.values.tolist()\n",
    "    df_nested_1.drop(columns=column_name_list, axis=1, inplace=True)\n",
    "    df_labs = pd.concat([df_labs, df_nested_1], axis=1)\n",
    "    df_labs.drop(columns=column, inplace=True)"
   ]
  },
  {
   "cell_type": "code",
   "execution_count": 38,
   "metadata": {},
   "outputs": [
    {
     "data": {
      "text/plain": [
       "(45466, 18)"
      ]
     },
     "execution_count": 38,
     "metadata": {},
     "output_type": "execute_result"
    }
   ],
   "source": [
    "df_labs.shape"
   ]
  },
  {
   "cell_type": "code",
   "execution_count": 39,
   "metadata": {},
   "outputs": [
    {
     "name": "stdout",
     "output_type": "stream",
     "text": [
      "<class 'pandas.core.frame.DataFrame'>\n",
      "RangeIndex: 45466 entries, 0 to 45465\n",
      "Data columns (total 18 columns):\n",
      " #   Column                     Non-Null Count  Dtype  \n",
      "---  ------                     --------------  -----  \n",
      " 0   belongs_to_collection      4494 non-null   object \n",
      " 1   budget                     45466 non-null  float64\n",
      " 2   id                         45466 non-null  object \n",
      " 3   original_language          45455 non-null  object \n",
      " 4   overview                   44512 non-null  object \n",
      " 5   popularity                 45461 non-null  object \n",
      " 6   release_date               45379 non-null  object \n",
      " 7   revenue                    45466 non-null  float64\n",
      " 8   runtime                    45203 non-null  float64\n",
      " 9   status                     45379 non-null  object \n",
      " 10  title                      45460 non-null  object \n",
      " 11  vote_average               45460 non-null  float64\n",
      " 12  vote_count                 45460 non-null  float64\n",
      " 13  return                     45466 non-null  float64\n",
      " 14  genres_name                45466 non-null  object \n",
      " 15  production_companies_name  45466 non-null  object \n",
      " 16  production_countries_name  45466 non-null  object \n",
      " 17  spoken_languages_name      45466 non-null  object \n",
      "dtypes: float64(6), object(12)\n",
      "memory usage: 6.2+ MB\n"
     ]
    }
   ],
   "source": [
    "df_labs.info()"
   ]
  },
  {
   "cell_type": "code",
   "execution_count": 40,
   "metadata": {},
   "outputs": [
    {
     "data": {
      "text/plain": [
       "0        1995-10-30\n",
       "1        1995-12-15\n",
       "2        1995-12-22\n",
       "3        1995-12-22\n",
       "4        1995-02-10\n",
       "            ...    \n",
       "45461           NaN\n",
       "45462    2011-11-17\n",
       "45463    2003-08-01\n",
       "45464    1917-10-21\n",
       "45465    2017-06-09\n",
       "Name: release_date, Length: 45466, dtype: object"
      ]
     },
     "execution_count": 40,
     "metadata": {},
     "output_type": "execute_result"
    }
   ],
   "source": [
    "df_labs['release_date']"
   ]
  },
  {
   "attachments": {},
   "cell_type": "markdown",
   "metadata": {},
   "source": [
    "05. VALORES NULOS RELEASE_DATE"
   ]
  },
  {
   "cell_type": "code",
   "execution_count": 41,
   "metadata": {},
   "outputs": [
    {
     "name": "stdout",
     "output_type": "stream",
     "text": [
      "<class 'pandas.core.frame.DataFrame'>\n",
      "Int64Index: 45379 entries, 0 to 45465\n",
      "Data columns (total 18 columns):\n",
      " #   Column                     Non-Null Count  Dtype  \n",
      "---  ------                     --------------  -----  \n",
      " 0   belongs_to_collection      4491 non-null   object \n",
      " 1   budget                     45379 non-null  float64\n",
      " 2   id                         45379 non-null  object \n",
      " 3   original_language          45368 non-null  object \n",
      " 4   overview                   44438 non-null  object \n",
      " 5   popularity                 45377 non-null  object \n",
      " 6   release_date               45379 non-null  object \n",
      " 7   revenue                    45379 non-null  float64\n",
      " 8   runtime                    45130 non-null  float64\n",
      " 9   status                     45296 non-null  object \n",
      " 10  title                      45376 non-null  object \n",
      " 11  vote_average               45376 non-null  float64\n",
      " 12  vote_count                 45376 non-null  float64\n",
      " 13  return                     45379 non-null  float64\n",
      " 14  genres_name                45379 non-null  object \n",
      " 15  production_companies_name  45379 non-null  object \n",
      " 16  production_countries_name  45379 non-null  object \n",
      " 17  spoken_languages_name      45379 non-null  object \n",
      "dtypes: float64(6), object(12)\n",
      "memory usage: 6.6+ MB\n"
     ]
    }
   ],
   "source": [
    "df_labs.dropna(subset=['release_date'], inplace=True)\n",
    "df_labs.info()"
   ]
  },
  {
   "attachments": {},
   "cell_type": "markdown",
   "metadata": {},
   "source": [
    "06. FORMATO FECHA"
   ]
  },
  {
   "attachments": {},
   "cell_type": "markdown",
   "metadata": {},
   "source": [
    "06.1 CREAR COLUMNA RELEASE YEAR"
   ]
  },
  {
   "cell_type": "code",
   "execution_count": 42,
   "metadata": {},
   "outputs": [
    {
     "name": "stderr",
     "output_type": "stream",
     "text": [
      "C:\\Users\\pecor\\AppData\\Local\\Temp\\ipykernel_18308\\312493890.py:2: UserWarning: This pattern is interpreted as a regular expression, and has match groups. To actually get the groups, use str.extract.\n",
      "  filter = df_labs['release_date'].str.contains(regex_filter)\n"
     ]
    }
   ],
   "source": [
    "regex_filter = '^\\d{4}\\-(0?[1-9]|1[012])\\-(0?[1-9]|[12][0-9]|3[01])$'\n",
    "filter = df_labs['release_date'].str.contains(regex_filter)\n",
    "df_labs = df_labs[filter]\n",
    "df_labs['release_year'] = df_labs['release_date'].apply(lambda x: datetime.strptime(x, '%Y-%m-%d').date().year)"
   ]
  },
  {
   "attachments": {},
   "cell_type": "markdown",
   "metadata": {},
   "source": [
    "06.2 CONVERTIR EL RELEASE DATE A FORMATO FECHA"
   ]
  },
  {
   "cell_type": "code",
   "execution_count": 43,
   "metadata": {},
   "outputs": [],
   "source": [
    "df_labs['release_date'] = pd.to_datetime(df_labs['release_date'], format='%Y-%m-%d')"
   ]
  },
  {
   "cell_type": "code",
   "execution_count": 44,
   "metadata": {},
   "outputs": [
    {
     "name": "stdout",
     "output_type": "stream",
     "text": [
      "<class 'pandas.core.frame.DataFrame'>\n"
     ]
    }
   ],
   "source": [
    "print(type(df_labs))"
   ]
  },
  {
   "attachments": {},
   "cell_type": "markdown",
   "metadata": {},
   "source": [
    "MODULO API"
   ]
  },
  {
   "cell_type": "code",
   "execution_count": 45,
   "metadata": {},
   "outputs": [],
   "source": [
    "#from fastapi import FastAPI\n",
    "#from fastapi.responses import JSONResponse\n",
    "#import pandas as pd\n",
    "\n",
    "#app = FastAPI()\n",
    "\n",
    "#@app.get(\"/dataframe\")\n",
    "#def get_dataframe():\n",
    "#   data = df_labs\n",
    "#   return JSONResponse(content=data.to_json(orient='records'), media_type='application/json')\n",
    "\n",
    "#import nest_asyncio\n",
    "#nest_asyncio.apply()\n",
    "#import uvicorn\n",
    "\n",
    "#if __name__ == '__main__':\n",
    "#    uvicorn.run(app, host='0.0.0.0', port=8000)"
   ]
  },
  {
   "cell_type": "code",
   "execution_count": null,
   "metadata": {},
   "outputs": [],
   "source": []
  },
  {
   "cell_type": "code",
   "execution_count": 48,
   "metadata": {},
   "outputs": [],
   "source": [
    "df_labs['release_date'] = pd.to_datetime(df_labs['release_date'])"
   ]
  },
  {
   "cell_type": "code",
   "execution_count": 51,
   "metadata": {},
   "outputs": [],
   "source": [
    "fecha_filtrada = pd.to_datetime('2010-06-10')  # Fecha específica a filtrar\n",
    "\n",
    "df_filtrado = df_labs[df_labs['release_date'] == fecha_filtrada]"
   ]
  },
  {
   "cell_type": "code",
   "execution_count": 53,
   "metadata": {},
   "outputs": [],
   "source": [
    "filas = df_filtrado.loc[:]"
   ]
  },
  {
   "cell_type": "code",
   "execution_count": 55,
   "metadata": {},
   "outputs": [
    {
     "name": "stdout",
     "output_type": "stream",
     "text": [
      "      belongs_to_collection       budget      id original_language  \\\n",
      "15344                  None  110000000.0   34544                en   \n",
      "15496                  None   40000000.0   38575                en   \n",
      "18185                  None   50000000.0   38407                en   \n",
      "18624                  None          0.0   51875                en   \n",
      "26024                  None   10000000.0   51250                en   \n",
      "40458                  None          0.0  352812                en   \n",
      "41123                  None          0.0  113649                ko   \n",
      "\n",
      "                                                overview popularity  \\\n",
      "15344  A group of Iraq War veterans goes on the run f...  16.747793   \n",
      "15496  12-year-old Dre Parker could have been the mos...  11.690781   \n",
      "18185  An American man returns to a corrupt, Japanese...   7.370332   \n",
      "18624  A mild-mannered secretary discovers that she h...   0.774843   \n",
      "26024        A drama set in the world of weapon dealing.   2.834545   \n",
      "40458  Amidst an old London clock shop, a small, quir...   0.781356   \n",
      "41123  Seo-hee, Nam-hee and Lan. These three girls ha...   0.219285   \n",
      "\n",
      "      release_date      revenue  runtime    status           title  \\\n",
      "15344   2010-06-10  177238796.0    117.0  Released      The A-Team   \n",
      "15496   2010-06-10  357852395.0    140.0  Released  The Karate Kid   \n",
      "18185   2010-06-10          0.0    105.0  Released        Shanghai   \n",
      "18624   2010-06-10          0.0     86.0  Released     Miss Nobody   \n",
      "26024   2010-06-10          0.0     81.0  Released             Gun   \n",
      "40458   2010-06-10          0.0      6.0  Released  Tick Tock Tale   \n",
      "41123   2010-06-10          0.0    100.0  Released      Be with Me   \n",
      "\n",
      "       vote_average  vote_count    return  \\\n",
      "15344           6.2      1737.0  1.611262   \n",
      "15496           6.2      1675.0  8.946310   \n",
      "18185           5.9        53.0  0.000000   \n",
      "18624           4.3        15.0  0.000000   \n",
      "26024           5.5        32.0  0.000000   \n",
      "40458           8.1        18.0  0.000000   \n",
      "41123           5.0         3.0  0.000000   \n",
      "\n",
      "                                             genres_name  \\\n",
      "15344  [Thriller, Action, Adventure, Comedy, Crime, ,...   \n",
      "15496         [Action, Adventure, Drama, Family, , , , ]   \n",
      "18185                [Drama, Mystery, Romance, , , , , ]   \n",
      "18624                        [Crime, Comedy, , , , , , ]   \n",
      "26024                     [Action, Thriller, , , , , , ]   \n",
      "40458                          [Animation, , , , , , , ]   \n",
      "41123         [Horror, Drama, Thriller, Romance, , , , ]   \n",
      "\n",
      "                               production_companies_name  \\\n",
      "15344  [Ingenious Film Partners, Twentieth Century Fo...   \n",
      "15496  [Columbia Pictures, Jerry Weintraub Production...   \n",
      "18185  [Living Films, Weinstein Company, The, Phoenix...   \n",
      "18624  [Double Dutch Films, , , , , , , , , , , , , ,...   \n",
      "26024  [Cheetah Vision, Hannibal Pictures, Emmett Fur...   \n",
      "40458  [Walt Disney Pictures, Walt Disney Animation S...   \n",
      "41123  [, , , , , , , , , , , , , , , , , , , , , , ,...   \n",
      "\n",
      "                               production_countries_name  \\\n",
      "15344  [United States of America, , , , , , , , , , ,...   \n",
      "15496  [China, United States of America, , , , , , , ...   \n",
      "18185  [China, United States of America, , , , , , , ...   \n",
      "18624  [United States of America, , , , , , , , , , ,...   \n",
      "26024  [United States of America, , , , , , , , , , ,...   \n",
      "40458  [United States of America, , , , , , , , , , ,...   \n",
      "41123  [South Korea, , , , , , , , , , , , , , , , , ...   \n",
      "\n",
      "                                   spoken_languages_name  release_year  \n",
      "15344  [Deutsch, English, Español, Français, Kiswahil...          2010  \n",
      "15496   [普通话, English, , , , , , , , , , , , , , , , , ]          2010  \n",
      "18185  [Deutsch, 日本語, 普通话, English, , , , , , , , , ,...          2010  \n",
      "18624      [English, , , , , , , , , , , , , , , , , , ]          2010  \n",
      "26024      [English, , , , , , , , , , , , , , , , , , ]          2010  \n",
      "40458  [English, No Language, , , , , , , , , , , , ,...          2010  \n",
      "41123      [한국어/조선말, , , , , , , , , , , , , , , , , , ]          2010  \n"
     ]
    }
   ],
   "source": [
    "print(filas)"
   ]
  }
 ],
 "metadata": {
  "kernelspec": {
   "display_name": "Python 3",
   "language": "python",
   "name": "python3"
  },
  "language_info": {
   "codemirror_mode": {
    "name": "ipython",
    "version": 3
   },
   "file_extension": ".py",
   "mimetype": "text/x-python",
   "name": "python",
   "nbconvert_exporter": "python",
   "pygments_lexer": "ipython3",
   "version": "3.11.2"
  },
  "orig_nbformat": 4
 },
 "nbformat": 4,
 "nbformat_minor": 2
}
