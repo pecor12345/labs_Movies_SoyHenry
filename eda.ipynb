{
 "cells": [
  {
   "cell_type": "code",
   "execution_count": 41,
   "metadata": {},
   "outputs": [],
   "source": [
    "import re\n",
    "import pandas as pd\n",
    "import numpy as np\n",
    "import seaborn as sns\n",
    "import matplotlib.pyplot as plt\n",
    "import nltk\n",
    "from sklearn.preprocessing import MinMaxScaler\n",
    "from nltk.stem import PorterStemmer\n",
    "from wordcloud import WordCloud, STOPWORDS\n",
    "from sklearn.metrics.pairwise import cosine_similarity\n",
    "from sklearn.feature_extraction.text import TfidfVectorizer \n",
    "from nltk.probability import FreqDist\n",
    "from nltk.corpus import stopwords"
   ]
  },
  {
   "attachments": {},
   "cell_type": "markdown",
   "metadata": {},
   "source": [
    "CARGA DE DATA"
   ]
  },
  {
   "cell_type": "code",
   "execution_count": 23,
   "metadata": {},
   "outputs": [],
   "source": [
    "url='https://drive.google.com/file/d/1QuvhMiZLka18ZXnx8o1P5C8Cf5oHCgjL/view?usp=sharing'\n",
    "url='https://drive.google.com/uc?id=' + url.split('/')[-2]\n",
    "df_labs = pd.read_csv(url)"
   ]
  },
  {
   "cell_type": "code",
   "execution_count": 24,
   "metadata": {},
   "outputs": [],
   "source": [
    "drop_columns = ['original_language', 'runtime', 'spoken_languages', 'status', \n",
    "                'belongs_to_collection_name', 'production_companies', 'production_countries',\n",
    "                'release_date']\n",
    "df_labs.drop(columns=drop_columns, axis=1, inplace=True)\n"
   ]
  },
  {
   "cell_type": "code",
   "execution_count": 25,
   "metadata": {},
   "outputs": [
    {
     "name": "stdout",
     "output_type": "stream",
     "text": [
      "<class 'pandas.core.frame.DataFrame'>\n",
      "RangeIndex: 45345 entries, 0 to 45344\n",
      "Data columns (total 13 columns):\n",
      " #   Column        Non-Null Count  Dtype  \n",
      "---  ------        --------------  -----  \n",
      " 0   budget        45345 non-null  float64\n",
      " 1   id            45345 non-null  int64  \n",
      " 2   overview      44404 non-null  object \n",
      " 3   popularity    45345 non-null  float64\n",
      " 4   revenue       45345 non-null  float64\n",
      " 5   title         45345 non-null  object \n",
      " 6   vote_average  45345 non-null  float64\n",
      " 7   vote_count    45345 non-null  float64\n",
      " 8   return        45345 non-null  float64\n",
      " 9   genres        45345 non-null  object \n",
      " 10  release_year  45345 non-null  int64  \n",
      " 11  cast          45345 non-null  object \n",
      " 12  director      45345 non-null  object \n",
      "dtypes: float64(6), int64(2), object(5)\n",
      "memory usage: 4.5+ MB\n"
     ]
    }
   ],
   "source": [
    "df_labs.info()"
   ]
  },
  {
   "attachments": {},
   "cell_type": "markdown",
   "metadata": {},
   "source": []
  },
  {
   "cell_type": "code",
   "execution_count": null,
   "metadata": {},
   "outputs": [],
   "source": [
    "#Limpiar datos, crear caracteristicas y combinar colunmas\n",
    "df_labs['genres'] = df_labs['genres'].fillna('')\n",
    "df_labs['features'] = df_labs['genres'].astype(str) + ' ' + df_labs['vote_average'].astype(str)"
   ]
  },
  {
   "cell_type": "code",
   "execution_count": null,
   "metadata": {},
   "outputs": [],
   "source": [
    "# Crear a TF-IDF matrix para caracteristicas combinadas\n",
    "tfidf = TfidfVectorizer()\n",
    "tfidf_matrix = tfidf.fit_transform(df_labs['features'])"
   ]
  },
  {
   "cell_type": "code",
   "execution_count": null,
   "metadata": {},
   "outputs": [],
   "source": [
    "#Definiendo la función de Recomendación\n",
    "def recomendacion(titulo):\n",
    "    titulo = titulo.lower()\n",
    "    pelicula_seleccionada = df_labs[df_labs['title'].str.lower() == titulo]\n",
    "\n",
    "    if pelicula_seleccionada.empty:\n",
    "        return []"
   ]
  },
  {
   "cell_type": "code",
   "execution_count": null,
   "metadata": {},
   "outputs": [],
   "source": [
    " #Filtrar peliculas por titulo   \n",
    "    index = pelicula_seleccionada.index[0]"
   ]
  },
  {
   "cell_type": "code",
   "execution_count": null,
   "metadata": {},
   "outputs": [],
   "source": [
    "#Obtener el ID de la pelicula seleccionada\n",
    "    id_pelicula_seleccionada = pelicula_seleccionada.iloc\n",
    "# calcular la similitud entre peliculas \n",
    "    similarity_scores = cosine_similarity(tfidf_matrix[index], tfidf_matrix)\n",
    "# Ranking de peliculas parecidas\n",
    "    similar_movies_indices = similarity_scores.argsort()[0][::-1]\n",
    "    similar_movies_indices = similar_movies_indices[similar_movies_indices != index]\n",
    "    peliculas_similares = df_labs.iloc[similar_movies_indices][:5][['title', 'vote_average']].values.tolist()\n",
    "#Peliculas con alta valoración\n",
    "    peliculas_similares = sorted(peliculas_similares, key=lambda x: x[1], reverse=True)\n",
    "    while len(peliculas_similares) < 5:\n",
    "        peliculas_similares.append(['Película adicional', 0])\n",
    "\n",
    "    return peliculas_similares"
   ]
  },
  {
   "cell_type": "code",
   "execution_count": null,
   "metadata": {},
   "outputs": [],
   "source": [
    "#Crear una función para recomendar películas\n",
    "@app.get(\"/recomendacion/{titulo}\")\n",
    "async def obtener_recomendacion(titulo: str):\n",
    "    recomendaciones = recomendacion(titulo)\n",
    "    if len(recomendaciones) == 0:\n",
    "        return {\"Error\": \"Película no encontrada\"}\n",
    "    else:\n",
    "        return {\"lista_recomendada\": recomendaciones}"
   ]
  },
  {
   "attachments": {},
   "cell_type": "markdown",
   "metadata": {},
   "source": [
    "Stemming"
   ]
  },
  {
   "cell_type": "code",
   "execution_count": null,
   "metadata": {},
   "outputs": [],
   "source": [
    "stemmer = PorterStemmer()"
   ]
  }
 ],
 "metadata": {
  "kernelspec": {
   "display_name": "Python 3",
   "language": "python",
   "name": "python3"
  },
  "language_info": {
   "codemirror_mode": {
    "name": "ipython",
    "version": 3
   },
   "file_extension": ".py",
   "mimetype": "text/x-python",
   "name": "python",
   "nbconvert_exporter": "python",
   "pygments_lexer": "ipython3",
   "version": "3.11.2"
  },
  "orig_nbformat": 4
 },
 "nbformat": 4,
 "nbformat_minor": 2
}
